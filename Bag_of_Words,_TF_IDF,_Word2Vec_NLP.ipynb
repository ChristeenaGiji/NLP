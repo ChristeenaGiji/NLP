{
  "nbformat": 4,
  "nbformat_minor": 0,
  "metadata": {
    "colab": {
      "provenance": [],
      "authorship_tag": "ABX9TyNur9GuJSWzGoQILRby1drm",
      "include_colab_link": true
    },
    "kernelspec": {
      "name": "python3",
      "display_name": "Python 3"
    },
    "language_info": {
      "name": "python"
    }
  },
  "cells": [
    {
      "cell_type": "markdown",
      "metadata": {
        "id": "view-in-github",
        "colab_type": "text"
      },
      "source": [
        "<a href=\"https://colab.research.google.com/github/ChristeenaGiji/NLP/blob/main/Bag_of_Words%2C_TF_IDF%2C_Word2Vec_NLP.ipynb\" target=\"_parent\"><img src=\"https://colab.research.google.com/assets/colab-badge.svg\" alt=\"Open In Colab\"/></a>"
      ]
    },
    {
      "cell_type": "code",
      "source": [
        "!pip install nltk\n"
      ],
      "metadata": {
        "id": "SHmRxZHO3j7C",
        "colab": {
          "base_uri": "https://localhost:8080/"
        },
        "outputId": "0abc3421-83e4-4617-e2cf-40371887b769"
      },
      "execution_count": 1,
      "outputs": [
        {
          "output_type": "stream",
          "name": "stdout",
          "text": [
            "Requirement already satisfied: nltk in /usr/local/lib/python3.10/dist-packages (3.8.1)\n",
            "Requirement already satisfied: click in /usr/local/lib/python3.10/dist-packages (from nltk) (8.1.7)\n",
            "Requirement already satisfied: joblib in /usr/local/lib/python3.10/dist-packages (from nltk) (1.4.2)\n",
            "Requirement already satisfied: regex>=2021.8.3 in /usr/local/lib/python3.10/dist-packages (from nltk) (2024.9.11)\n",
            "Requirement already satisfied: tqdm in /usr/local/lib/python3.10/dist-packages (from nltk) (4.66.5)\n"
          ]
        }
      ]
    },
    {
      "cell_type": "code",
      "source": [
        "paragraph=\"\"\" The prime minister of India (ISO: Bhārata kē/kī pradhānamaṁtrī) is the head of government of the Republic of India.[2][3] Executive authority is vested in the prime minister and his chosen Council of Ministers,[4][5][6] despite the president of India being the nominal head of the executive.[7][8][9][10] The prime minister has to be a member of one of the houses of bicameral Parliament of India, alongside heading the respective house.[11] The prime minister and his cabinet are at all times responsible to the Lok Sabha.[12][13]\n",
        "\n",
        "The prime minister is appointed by the president of India; however, the prime minister has to enjoy the confidence of the majority of Lok Sabha members, who are directly elected every five years, lest the prime minister shall resign. The prime minister can be a member of the Lok Sabha or the Rajya Sabha, the upper house of the parliament. The prime minister controls the selection and dismissal of members of the Union Council of Ministers; and allocation of posts to members within the government.\n",
        "\n",
        "\"\"\""
      ],
      "metadata": {
        "id": "VugkQpDxxEN5"
      },
      "execution_count": 2,
      "outputs": []
    },
    {
      "cell_type": "code",
      "source": [
        "paragraph"
      ],
      "metadata": {
        "colab": {
          "base_uri": "https://localhost:8080/",
          "height": 214
        },
        "id": "WvmCgL5XyrUr",
        "outputId": "33cb6efc-e9f6-4151-e252-2cf786083dd6"
      },
      "execution_count": 3,
      "outputs": [
        {
          "output_type": "execute_result",
          "data": {
            "text/plain": [
              "' The prime minister of India (ISO: Bhārata kē/kī pradhānamaṁtrī) is the head of government of the Republic of India.[2][3] Executive authority is vested in the prime minister and his chosen Council of Ministers,[4][5][6] despite the president of India being the nominal head of the executive.[7][8][9][10] The prime minister has to be a member of one of the houses of bicameral Parliament of India, alongside heading the respective house.[11] The prime minister and his cabinet are at all times responsible to the Lok Sabha.[12][13]\\n\\nThe prime minister is appointed by the president of India; however, the prime minister has to enjoy the confidence of the majority of Lok Sabha members, who are directly elected every five years, lest the prime minister shall resign. The prime minister can be a member of the Lok Sabha or the Rajya Sabha, the upper house of the parliament. The prime minister controls the selection and dismissal of members of the Union Council of Ministers; and allocation of posts to members within the government.\\n\\n'"
            ],
            "application/vnd.google.colaboratory.intrinsic+json": {
              "type": "string"
            }
          },
          "metadata": {},
          "execution_count": 3
        }
      ]
    },
    {
      "cell_type": "code",
      "source": [
        "import nltk\n",
        "from nltk.stem import PorterStemmer\n",
        "from nltk.corpus import stopwords"
      ],
      "metadata": {
        "id": "PbCLgGtGywHA"
      },
      "execution_count": 4,
      "outputs": []
    },
    {
      "cell_type": "code",
      "source": [
        "## tokenization -- converts paragrapghs to sentence words\n",
        "nltk.download('punkt')\n",
        "sentences= nltk.sent_tokenize(paragraph)\n"
      ],
      "metadata": {
        "colab": {
          "base_uri": "https://localhost:8080/"
        },
        "id": "WX9tdZvty7X3",
        "outputId": "a77b25ff-0bf4-4515-e11d-e06b9af11d96"
      },
      "execution_count": 8,
      "outputs": [
        {
          "output_type": "stream",
          "name": "stderr",
          "text": [
            "[nltk_data] Downloading package punkt to /root/nltk_data...\n",
            "[nltk_data]   Package punkt is already up-to-date!\n"
          ]
        }
      ]
    },
    {
      "cell_type": "code",
      "source": [
        "print(sentences)"
      ],
      "metadata": {
        "colab": {
          "base_uri": "https://localhost:8080/"
        },
        "id": "Ei6O78vxzYRl",
        "outputId": "cb535b77-5b40-4e40-9e09-5bc510425c48"
      },
      "execution_count": 9,
      "outputs": [
        {
          "output_type": "stream",
          "name": "stdout",
          "text": [
            "[' The prime minister of India (ISO: Bhārata kē/kī pradhānamaṁtrī) is the head of government of the Republic of India.', '[2][3] Executive authority is vested in the prime minister and his chosen Council of Ministers,[4][5][6] despite the president of India being the nominal head of the executive.', '[7][8][9][10] The prime minister has to be a member of one of the houses of bicameral Parliament of India, alongside heading the respective house.', '[11] The prime minister and his cabinet are at all times responsible to the Lok Sabha.', '[12][13]\\n\\nThe prime minister is appointed by the president of India; however, the prime minister has to enjoy the confidence of the majority of Lok Sabha members, who are directly elected every five years, lest the prime minister shall resign.', 'The prime minister can be a member of the Lok Sabha or the Rajya Sabha, the upper house of the parliament.', 'The prime minister controls the selection and dismissal of members of the Union Council of Ministers; and allocation of posts to members within the government.']\n"
          ]
        }
      ]
    },
    {
      "cell_type": "code",
      "source": [
        "stemmer=PorterStemmer()"
      ],
      "metadata": {
        "id": "SPFbb8owzl59"
      },
      "execution_count": 11,
      "outputs": []
    },
    {
      "cell_type": "code",
      "source": [
        "stemmer.stem('goes')"
      ],
      "metadata": {
        "colab": {
          "base_uri": "https://localhost:8080/",
          "height": 35
        },
        "id": "PrmoeMpSztT1",
        "outputId": "d50fbdaf-ce0a-4367-c894-b565834f24db"
      },
      "execution_count": 12,
      "outputs": [
        {
          "output_type": "execute_result",
          "data": {
            "text/plain": [
              "'goe'"
            ],
            "application/vnd.google.colaboratory.intrinsic+json": {
              "type": "string"
            }
          },
          "metadata": {},
          "execution_count": 12
        }
      ]
    },
    {
      "cell_type": "code",
      "source": [
        "stemmer.stem('gone')"
      ],
      "metadata": {
        "colab": {
          "base_uri": "https://localhost:8080/",
          "height": 35
        },
        "id": "dX4R8_gLz0Mu",
        "outputId": "10ff96c9-5391-4584-d158-96e5133293d5"
      },
      "execution_count": 13,
      "outputs": [
        {
          "output_type": "execute_result",
          "data": {
            "text/plain": [
              "'gone'"
            ],
            "application/vnd.google.colaboratory.intrinsic+json": {
              "type": "string"
            }
          },
          "metadata": {},
          "execution_count": 13
        }
      ]
    },
    {
      "cell_type": "code",
      "source": [
        "stemmer.stem('thinking')"
      ],
      "metadata": {
        "colab": {
          "base_uri": "https://localhost:8080/",
          "height": 35
        },
        "id": "5emxiK23z3HD",
        "outputId": "ab07982e-2116-4ac9-94b2-e5994e0ca6ea"
      },
      "execution_count": 14,
      "outputs": [
        {
          "output_type": "execute_result",
          "data": {
            "text/plain": [
              "'think'"
            ],
            "application/vnd.google.colaboratory.intrinsic+json": {
              "type": "string"
            }
          },
          "metadata": {},
          "execution_count": 14
        }
      ]
    },
    {
      "cell_type": "code",
      "source": [
        "from nltk.stem import WordNetLemmatizer"
      ],
      "metadata": {
        "id": "rP_c4nNuz6A-"
      },
      "execution_count": 24,
      "outputs": []
    },
    {
      "cell_type": "code",
      "source": [
        "nltk.download('wordnet')"
      ],
      "metadata": {
        "colab": {
          "base_uri": "https://localhost:8080/"
        },
        "id": "zk81VuOr1CMp",
        "outputId": "226e6ae6-b83a-402f-8d75-b0e7c0cdc455"
      },
      "execution_count": 27,
      "outputs": [
        {
          "output_type": "stream",
          "name": "stderr",
          "text": [
            "[nltk_data] Downloading package wordnet to /root/nltk_data...\n"
          ]
        },
        {
          "output_type": "execute_result",
          "data": {
            "text/plain": [
              "True"
            ]
          },
          "metadata": {},
          "execution_count": 27
        }
      ]
    },
    {
      "cell_type": "code",
      "source": [
        "lemmatizer=WordNetLemmatizer()"
      ],
      "metadata": {
        "id": "T_MdvTLS0Cub"
      },
      "execution_count": 28,
      "outputs": []
    },
    {
      "cell_type": "code",
      "source": [
        "lemmatizer.lemmatize('goes')"
      ],
      "metadata": {
        "colab": {
          "base_uri": "https://localhost:8080/",
          "height": 35
        },
        "id": "iv8kFw3s0VDQ",
        "outputId": "88e71214-b1e4-4f4a-94b0-fd790be3f545"
      },
      "execution_count": 29,
      "outputs": [
        {
          "output_type": "execute_result",
          "data": {
            "text/plain": [
              "'go'"
            ],
            "application/vnd.google.colaboratory.intrinsic+json": {
              "type": "string"
            }
          },
          "metadata": {},
          "execution_count": 29
        }
      ]
    },
    {
      "cell_type": "code",
      "source": [
        "len(sentences)"
      ],
      "metadata": {
        "colab": {
          "base_uri": "https://localhost:8080/"
        },
        "id": "OEHbtZLu1XDA",
        "outputId": "8580a5d7-0b2b-48d6-a6a6-12383fe12ab7"
      },
      "execution_count": 30,
      "outputs": [
        {
          "output_type": "execute_result",
          "data": {
            "text/plain": [
              "7"
            ]
          },
          "metadata": {},
          "execution_count": 30
        }
      ]
    },
    {
      "cell_type": "code",
      "source": [
        "import re\n",
        "corpus=[]\n",
        "for i in range(len(sentences)):\n",
        "  review=re.sub('[^a-zA-Z]',' ',sentences[i])\n",
        "  review=review.lower()\n",
        "  corpus.append(review)"
      ],
      "metadata": {
        "id": "xO2XrfEt0s9v"
      },
      "execution_count": 31,
      "outputs": []
    },
    {
      "cell_type": "code",
      "source": [
        "corpus"
      ],
      "metadata": {
        "colab": {
          "base_uri": "https://localhost:8080/"
        },
        "id": "MDL5gw4N1oYT",
        "outputId": "c629607f-dd1f-4d0c-a869-c83f38f7d132"
      },
      "execution_count": 32,
      "outputs": [
        {
          "output_type": "execute_result",
          "data": {
            "text/plain": [
              "[' the prime minister of india  iso  bh rata k  k  pradh nama tr   is the head of government of the republic of india ',\n",
              " '       executive authority is vested in the prime minister and his chosen council of ministers           despite the president of india being the nominal head of the executive ',\n",
              " '              the prime minister has to be a member of one of the houses of bicameral parliament of india  alongside heading the respective house ',\n",
              " '     the prime minister and his cabinet are at all times responsible to the lok sabha ',\n",
              " '          the prime minister is appointed by the president of india  however  the prime minister has to enjoy the confidence of the majority of lok sabha members  who are directly elected every five years  lest the prime minister shall resign ',\n",
              " 'the prime minister can be a member of the lok sabha or the rajya sabha  the upper house of the parliament ',\n",
              " 'the prime minister controls the selection and dismissal of members of the union council of ministers  and allocation of posts to members within the government ']"
            ]
          },
          "metadata": {},
          "execution_count": 32
        }
      ]
    },
    {
      "cell_type": "code",
      "source": [
        "#Stemming\n",
        "\n",
        "for i in corpus : print (i)"
      ],
      "metadata": {
        "colab": {
          "base_uri": "https://localhost:8080/"
        },
        "id": "yDExQHIW1qAV",
        "outputId": "8780495a-70cd-4236-8447-ded0ba80b4f5"
      },
      "execution_count": 34,
      "outputs": [
        {
          "output_type": "stream",
          "name": "stdout",
          "text": [
            " the prime minister of india  iso  bh rata k  k  pradh nama tr   is the head of government of the republic of india \n",
            "       executive authority is vested in the prime minister and his chosen council of ministers           despite the president of india being the nominal head of the executive \n",
            "              the prime minister has to be a member of one of the houses of bicameral parliament of india  alongside heading the respective house \n",
            "     the prime minister and his cabinet are at all times responsible to the lok sabha \n",
            "          the prime minister is appointed by the president of india  however  the prime minister has to enjoy the confidence of the majority of lok sabha members  who are directly elected every five years  lest the prime minister shall resign \n",
            "the prime minister can be a member of the lok sabha or the rajya sabha  the upper house of the parliament \n",
            "the prime minister controls the selection and dismissal of members of the union council of ministers  and allocation of posts to members within the government \n"
          ]
        }
      ]
    },
    {
      "cell_type": "code",
      "source": [
        "nltk.download('stopwords')"
      ],
      "metadata": {
        "colab": {
          "base_uri": "https://localhost:8080/"
        },
        "id": "crljd6U64Wbv",
        "outputId": "8dd1e712-cc8b-4b57-d9fc-3ec843ba5f6a"
      },
      "execution_count": 37,
      "outputs": [
        {
          "output_type": "stream",
          "name": "stderr",
          "text": [
            "[nltk_data] Downloading package stopwords to /root/nltk_data...\n",
            "[nltk_data]   Unzipping corpora/stopwords.zip.\n"
          ]
        },
        {
          "output_type": "execute_result",
          "data": {
            "text/plain": [
              "True"
            ]
          },
          "metadata": {},
          "execution_count": 37
        }
      ]
    },
    {
      "cell_type": "code",
      "source": [
        "for i in corpus:\n",
        "  words=nltk.word_tokenize(i)\n",
        "  for word in words:\n",
        "    if word not in set(stopwords.words('english')):\n",
        "      print(stemmer.stem(word))\n",
        "\n",
        "  if word not in set(stopwords.words('english')):\n",
        "    print(stemmer.stem(word))"
      ],
      "metadata": {
        "colab": {
          "base_uri": "https://localhost:8080/"
        },
        "id": "JtBA8VXI1zK0",
        "outputId": "f381c336-4450-4d44-9b74-838fb573fe3c"
      },
      "execution_count": 38,
      "outputs": [
        {
          "output_type": "stream",
          "name": "stdout",
          "text": [
            "prime\n",
            "minist\n",
            "india\n",
            "iso\n",
            "bh\n",
            "rata\n",
            "k\n",
            "k\n",
            "pradh\n",
            "nama\n",
            "tr\n",
            "head\n",
            "govern\n",
            "republ\n",
            "india\n",
            "india\n",
            "execut\n",
            "author\n",
            "vest\n",
            "prime\n",
            "minist\n",
            "chosen\n",
            "council\n",
            "minist\n",
            "despit\n",
            "presid\n",
            "india\n",
            "nomin\n",
            "head\n",
            "execut\n",
            "execut\n",
            "prime\n",
            "minist\n",
            "member\n",
            "one\n",
            "hous\n",
            "bicamer\n",
            "parliament\n",
            "india\n",
            "alongsid\n",
            "head\n",
            "respect\n",
            "hous\n",
            "hous\n",
            "prime\n",
            "minist\n",
            "cabinet\n",
            "time\n",
            "respons\n",
            "lok\n",
            "sabha\n",
            "sabha\n",
            "prime\n",
            "minist\n",
            "appoint\n",
            "presid\n",
            "india\n",
            "howev\n",
            "prime\n",
            "minist\n",
            "enjoy\n",
            "confid\n",
            "major\n",
            "lok\n",
            "sabha\n",
            "member\n",
            "directli\n",
            "elect\n",
            "everi\n",
            "five\n",
            "year\n",
            "lest\n",
            "prime\n",
            "minist\n",
            "shall\n",
            "resign\n",
            "resign\n",
            "prime\n",
            "minist\n",
            "member\n",
            "lok\n",
            "sabha\n",
            "rajya\n",
            "sabha\n",
            "upper\n",
            "hous\n",
            "parliament\n",
            "parliament\n",
            "prime\n",
            "minist\n",
            "control\n",
            "select\n",
            "dismiss\n",
            "member\n",
            "union\n",
            "council\n",
            "minist\n",
            "alloc\n",
            "post\n",
            "member\n",
            "within\n",
            "govern\n",
            "govern\n"
          ]
        }
      ]
    },
    {
      "cell_type": "code",
      "source": [
        "stopwords.words('english')"
      ],
      "metadata": {
        "colab": {
          "base_uri": "https://localhost:8080/"
        },
        "id": "DvfcCoJk4KET",
        "outputId": "349afb3c-b8fa-4b4c-918d-f8eb3005181f"
      },
      "execution_count": 39,
      "outputs": [
        {
          "output_type": "execute_result",
          "data": {
            "text/plain": [
              "['i',\n",
              " 'me',\n",
              " 'my',\n",
              " 'myself',\n",
              " 'we',\n",
              " 'our',\n",
              " 'ours',\n",
              " 'ourselves',\n",
              " 'you',\n",
              " \"you're\",\n",
              " \"you've\",\n",
              " \"you'll\",\n",
              " \"you'd\",\n",
              " 'your',\n",
              " 'yours',\n",
              " 'yourself',\n",
              " 'yourselves',\n",
              " 'he',\n",
              " 'him',\n",
              " 'his',\n",
              " 'himself',\n",
              " 'she',\n",
              " \"she's\",\n",
              " 'her',\n",
              " 'hers',\n",
              " 'herself',\n",
              " 'it',\n",
              " \"it's\",\n",
              " 'its',\n",
              " 'itself',\n",
              " 'they',\n",
              " 'them',\n",
              " 'their',\n",
              " 'theirs',\n",
              " 'themselves',\n",
              " 'what',\n",
              " 'which',\n",
              " 'who',\n",
              " 'whom',\n",
              " 'this',\n",
              " 'that',\n",
              " \"that'll\",\n",
              " 'these',\n",
              " 'those',\n",
              " 'am',\n",
              " 'is',\n",
              " 'are',\n",
              " 'was',\n",
              " 'were',\n",
              " 'be',\n",
              " 'been',\n",
              " 'being',\n",
              " 'have',\n",
              " 'has',\n",
              " 'had',\n",
              " 'having',\n",
              " 'do',\n",
              " 'does',\n",
              " 'did',\n",
              " 'doing',\n",
              " 'a',\n",
              " 'an',\n",
              " 'the',\n",
              " 'and',\n",
              " 'but',\n",
              " 'if',\n",
              " 'or',\n",
              " 'because',\n",
              " 'as',\n",
              " 'until',\n",
              " 'while',\n",
              " 'of',\n",
              " 'at',\n",
              " 'by',\n",
              " 'for',\n",
              " 'with',\n",
              " 'about',\n",
              " 'against',\n",
              " 'between',\n",
              " 'into',\n",
              " 'through',\n",
              " 'during',\n",
              " 'before',\n",
              " 'after',\n",
              " 'above',\n",
              " 'below',\n",
              " 'to',\n",
              " 'from',\n",
              " 'up',\n",
              " 'down',\n",
              " 'in',\n",
              " 'out',\n",
              " 'on',\n",
              " 'off',\n",
              " 'over',\n",
              " 'under',\n",
              " 'again',\n",
              " 'further',\n",
              " 'then',\n",
              " 'once',\n",
              " 'here',\n",
              " 'there',\n",
              " 'when',\n",
              " 'where',\n",
              " 'why',\n",
              " 'how',\n",
              " 'all',\n",
              " 'any',\n",
              " 'both',\n",
              " 'each',\n",
              " 'few',\n",
              " 'more',\n",
              " 'most',\n",
              " 'other',\n",
              " 'some',\n",
              " 'such',\n",
              " 'no',\n",
              " 'nor',\n",
              " 'not',\n",
              " 'only',\n",
              " 'own',\n",
              " 'same',\n",
              " 'so',\n",
              " 'than',\n",
              " 'too',\n",
              " 'very',\n",
              " 's',\n",
              " 't',\n",
              " 'can',\n",
              " 'will',\n",
              " 'just',\n",
              " 'don',\n",
              " \"don't\",\n",
              " 'should',\n",
              " \"should've\",\n",
              " 'now',\n",
              " 'd',\n",
              " 'll',\n",
              " 'm',\n",
              " 'o',\n",
              " 're',\n",
              " 've',\n",
              " 'y',\n",
              " 'ain',\n",
              " 'aren',\n",
              " \"aren't\",\n",
              " 'couldn',\n",
              " \"couldn't\",\n",
              " 'didn',\n",
              " \"didn't\",\n",
              " 'doesn',\n",
              " \"doesn't\",\n",
              " 'hadn',\n",
              " \"hadn't\",\n",
              " 'hasn',\n",
              " \"hasn't\",\n",
              " 'haven',\n",
              " \"haven't\",\n",
              " 'isn',\n",
              " \"isn't\",\n",
              " 'ma',\n",
              " 'mightn',\n",
              " \"mightn't\",\n",
              " 'mustn',\n",
              " \"mustn't\",\n",
              " 'needn',\n",
              " \"needn't\",\n",
              " 'shan',\n",
              " \"shan't\",\n",
              " 'shouldn',\n",
              " \"shouldn't\",\n",
              " 'wasn',\n",
              " \"wasn't\",\n",
              " 'weren',\n",
              " \"weren't\",\n",
              " 'won',\n",
              " \"won't\",\n",
              " 'wouldn',\n",
              " \"wouldn't\"]"
            ]
          },
          "metadata": {},
          "execution_count": 39
        }
      ]
    },
    {
      "cell_type": "code",
      "source": [
        "##Lemmitization\n",
        "for i in corpus:\n",
        "  words=nltk.word_tokenize(i)\n",
        "  for word in words:\n",
        "    if word not in set(stopwords.words('english')):\n",
        "      print(lemmatizer.lemmatize(word))"
      ],
      "metadata": {
        "colab": {
          "base_uri": "https://localhost:8080/"
        },
        "id": "dcGA7l7g4fa-",
        "outputId": "77805337-c678-4b6e-8efc-2e4d0e032edd"
      },
      "execution_count": 40,
      "outputs": [
        {
          "output_type": "stream",
          "name": "stdout",
          "text": [
            "prime\n",
            "minister\n",
            "india\n",
            "iso\n",
            "bh\n",
            "rata\n",
            "k\n",
            "k\n",
            "pradh\n",
            "nama\n",
            "tr\n",
            "head\n",
            "government\n",
            "republic\n",
            "india\n",
            "executive\n",
            "authority\n",
            "vested\n",
            "prime\n",
            "minister\n",
            "chosen\n",
            "council\n",
            "minister\n",
            "despite\n",
            "president\n",
            "india\n",
            "nominal\n",
            "head\n",
            "executive\n",
            "prime\n",
            "minister\n",
            "member\n",
            "one\n",
            "house\n",
            "bicameral\n",
            "parliament\n",
            "india\n",
            "alongside\n",
            "heading\n",
            "respective\n",
            "house\n",
            "prime\n",
            "minister\n",
            "cabinet\n",
            "time\n",
            "responsible\n",
            "lok\n",
            "sabha\n",
            "prime\n",
            "minister\n",
            "appointed\n",
            "president\n",
            "india\n",
            "however\n",
            "prime\n",
            "minister\n",
            "enjoy\n",
            "confidence\n",
            "majority\n",
            "lok\n",
            "sabha\n",
            "member\n",
            "directly\n",
            "elected\n",
            "every\n",
            "five\n",
            "year\n",
            "lest\n",
            "prime\n",
            "minister\n",
            "shall\n",
            "resign\n",
            "prime\n",
            "minister\n",
            "member\n",
            "lok\n",
            "sabha\n",
            "rajya\n",
            "sabha\n",
            "upper\n",
            "house\n",
            "parliament\n",
            "prime\n",
            "minister\n",
            "control\n",
            "selection\n",
            "dismissal\n",
            "member\n",
            "union\n",
            "council\n",
            "minister\n",
            "allocation\n",
            "post\n",
            "member\n",
            "within\n",
            "government\n"
          ]
        }
      ]
    },
    {
      "cell_type": "code",
      "source": [],
      "metadata": {
        "id": "Srf0_qKIFfys"
      },
      "execution_count": null,
      "outputs": []
    },
    {
      "cell_type": "code",
      "source": [
        "from sklearn.feature_extraction.text import CountVectorizer\n",
        "cv=CountVectorizer()\n",
        "X=cv.fit_transform(corpus).toarray()"
      ],
      "metadata": {
        "id": "oD7lQEeP4yRr"
      },
      "execution_count": 46,
      "outputs": []
    },
    {
      "cell_type": "code",
      "source": [
        "cv.vocabulary_"
      ],
      "metadata": {
        "colab": {
          "base_uri": "https://localhost:8080/"
        },
        "id": "_OGqEAH-5GIw",
        "outputId": "621a6f44-1193-457a-a7c1-f40e75eeb1b1"
      },
      "execution_count": 42,
      "outputs": [
        {
          "output_type": "execute_result",
          "data": {
            "text/plain": [
              "{'the': 65,\n",
              " 'prime': 55,\n",
              " 'minister': 44,\n",
              " 'of': 48,\n",
              " 'india': 36,\n",
              " 'iso': 38,\n",
              " 'bh': 10,\n",
              " 'rata': 57,\n",
              " 'pradh': 53,\n",
              " 'nama': 46,\n",
              " 'tr': 68,\n",
              " 'is': 37,\n",
              " 'head': 29,\n",
              " 'government': 27,\n",
              " 'republic': 58,\n",
              " 'executive': 25,\n",
              " 'authority': 7,\n",
              " 'vested': 71,\n",
              " 'in': 35,\n",
              " 'and': 3,\n",
              " 'his': 31,\n",
              " 'chosen': 15,\n",
              " 'council': 18,\n",
              " 'ministers': 45,\n",
              " 'despite': 19,\n",
              " 'president': 54,\n",
              " 'being': 9,\n",
              " 'nominal': 47,\n",
              " 'has': 28,\n",
              " 'to': 67,\n",
              " 'be': 8,\n",
              " 'member': 42,\n",
              " 'one': 49,\n",
              " 'houses': 33,\n",
              " 'bicameral': 11,\n",
              " 'parliament': 51,\n",
              " 'alongside': 2,\n",
              " 'heading': 30,\n",
              " 'respective': 60,\n",
              " 'house': 32,\n",
              " 'cabinet': 13,\n",
              " 'are': 5,\n",
              " 'at': 6,\n",
              " 'all': 0,\n",
              " 'times': 66,\n",
              " 'responsible': 61,\n",
              " 'lok': 40,\n",
              " 'sabha': 62,\n",
              " 'appointed': 4,\n",
              " 'by': 12,\n",
              " 'however': 34,\n",
              " 'enjoy': 23,\n",
              " 'confidence': 16,\n",
              " 'majority': 41,\n",
              " 'members': 43,\n",
              " 'who': 72,\n",
              " 'directly': 20,\n",
              " 'elected': 22,\n",
              " 'every': 24,\n",
              " 'five': 26,\n",
              " 'years': 74,\n",
              " 'lest': 39,\n",
              " 'shall': 64,\n",
              " 'resign': 59,\n",
              " 'can': 14,\n",
              " 'or': 50,\n",
              " 'rajya': 56,\n",
              " 'upper': 70,\n",
              " 'controls': 17,\n",
              " 'selection': 63,\n",
              " 'dismissal': 21,\n",
              " 'union': 69,\n",
              " 'allocation': 1,\n",
              " 'posts': 52,\n",
              " 'within': 73}"
            ]
          },
          "metadata": {},
          "execution_count": 42
        }
      ]
    },
    {
      "cell_type": "code",
      "source": [
        "corpus[0]"
      ],
      "metadata": {
        "colab": {
          "base_uri": "https://localhost:8080/",
          "height": 53
        },
        "id": "lIQoKe5K5KBC",
        "outputId": "a9d4a6c6-6425-4d61-fac6-c0b55575d9a6"
      },
      "execution_count": 43,
      "outputs": [
        {
          "output_type": "execute_result",
          "data": {
            "text/plain": [
              "' the prime minister of india  iso  bh rata k  k  pradh nama tr   is the head of government of the republic of india '"
            ],
            "application/vnd.google.colaboratory.intrinsic+json": {
              "type": "string"
            }
          },
          "metadata": {},
          "execution_count": 43
        }
      ]
    },
    {
      "cell_type": "code",
      "source": [
        "X[0]"
      ],
      "metadata": {
        "colab": {
          "base_uri": "https://localhost:8080/"
        },
        "id": "O2-56-RyDibQ",
        "outputId": "ba443728-7056-4e63-9c2a-278aa1ed99ad"
      },
      "execution_count": 48,
      "outputs": [
        {
          "output_type": "execute_result",
          "data": {
            "text/plain": [
              "array([0, 0, 0, 0, 0, 0, 0, 0, 0, 0, 1, 0, 0, 0, 0, 0, 0, 0, 0, 0, 0, 0,\n",
              "       0, 0, 0, 0, 0, 1, 0, 1, 0, 0, 0, 0, 0, 0, 2, 1, 1, 0, 0, 0, 0, 0,\n",
              "       1, 0, 1, 0, 4, 0, 0, 0, 0, 1, 0, 1, 0, 1, 1, 0, 0, 0, 0, 0, 0, 3,\n",
              "       0, 0, 1, 0, 0, 0, 0, 0, 0])"
            ]
          },
          "metadata": {},
          "execution_count": 48
        }
      ]
    },
    {
      "cell_type": "code",
      "source": [
        "X[0].shape"
      ],
      "metadata": {
        "colab": {
          "base_uri": "https://localhost:8080/"
        },
        "id": "6DqRrcH7Dnlc",
        "outputId": "43e08cfd-b535-4e10-dbec-154f1a45e021"
      },
      "execution_count": 49,
      "outputs": [
        {
          "output_type": "execute_result",
          "data": {
            "text/plain": [
              "(75,)"
            ]
          },
          "metadata": {},
          "execution_count": 49
        }
      ]
    },
    {
      "cell_type": "code",
      "source": [
        "# if we need to convert to binary bow - SO NO 2\n",
        "from sklearn.feature_extraction.text import CountVectorizer\n",
        "cv=CountVectorizer(binary=True)\n",
        "X=cv.fit_transform(corpus).toarray()"
      ],
      "metadata": {
        "id": "WamqxLrLD8YZ"
      },
      "execution_count": 52,
      "outputs": []
    },
    {
      "cell_type": "code",
      "source": [
        "X[0]"
      ],
      "metadata": {
        "colab": {
          "base_uri": "https://localhost:8080/"
        },
        "id": "bRyaTpIQFO19",
        "outputId": "10b8bc6c-f6be-4bcd-841d-dad24b17e983"
      },
      "execution_count": 51,
      "outputs": [
        {
          "output_type": "execute_result",
          "data": {
            "text/plain": [
              "array([0, 0, 0, 0, 0, 0, 0, 0, 0, 0, 1, 0, 0, 0, 0, 0, 0, 0, 0, 0, 0, 0,\n",
              "       0, 0, 0, 0, 0, 1, 0, 1, 0, 0, 0, 0, 0, 0, 1, 1, 1, 0, 0, 0, 0, 0,\n",
              "       1, 0, 1, 0, 1, 0, 0, 0, 0, 1, 0, 1, 0, 1, 1, 0, 0, 0, 0, 0, 0, 1,\n",
              "       0, 0, 1, 0, 0, 0, 0, 0, 0])"
            ]
          },
          "metadata": {},
          "execution_count": 51
        }
      ]
    },
    {
      "cell_type": "code",
      "source": [
        "#if apply stopWords\n",
        "##Apply Stopwords. Lemmatize\n",
        "\n",
        "import re\n",
        "corpus=[]\n",
        "for i in range(len(sentences)):\n",
        "  review=re.sub('[^a-zA-Z]',' ',sentences[i])\n",
        "  review=review.lower()\n",
        "  review=review.split()\n",
        "  review=[lemmatizer.lemmatize(word) for word in review if not word in set(stopwords.words('english'))]\n",
        "  review=' '.join(review)\n",
        "  corpus.append(review)"
      ],
      "metadata": {
        "id": "4vIabJiCFRai"
      },
      "execution_count": 53,
      "outputs": []
    },
    {
      "cell_type": "code",
      "source": [
        "from sklearn.feature_extraction.text import CountVectorizer\n",
        "cv=CountVectorizer()\n",
        "X=cv.fit_transform(corpus).toarray()"
      ],
      "metadata": {
        "id": "9YVncGDxGA7b"
      },
      "execution_count": 54,
      "outputs": []
    },
    {
      "cell_type": "code",
      "source": [
        "X[0]"
      ],
      "metadata": {
        "colab": {
          "base_uri": "https://localhost:8080/"
        },
        "id": "JgyQB4OjGndg",
        "outputId": "e8a9e331-d99b-4aa8-d033-8295d093b214"
      },
      "execution_count": 55,
      "outputs": [
        {
          "output_type": "execute_result",
          "data": {
            "text/plain": [
              "array([0, 0, 0, 0, 1, 0, 0, 0, 0, 0, 0, 0, 0, 0, 0, 0, 0, 0, 0, 1, 1, 0,\n",
              "       0, 0, 2, 1, 0, 0, 0, 0, 1, 1, 0, 0, 0, 0, 1, 0, 1, 0, 1, 1, 0, 0,\n",
              "       0, 0, 0, 0, 0, 1, 0, 0, 0, 0, 0])"
            ]
          },
          "metadata": {},
          "execution_count": 55
        }
      ]
    },
    {
      "cell_type": "code",
      "source": [],
      "metadata": {
        "id": "JFWrAAOHGpQI"
      },
      "execution_count": null,
      "outputs": []
    }
  ]
}